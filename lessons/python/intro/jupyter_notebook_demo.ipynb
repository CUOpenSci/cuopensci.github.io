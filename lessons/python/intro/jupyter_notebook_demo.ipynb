{
 "cells": [
  {
   "cell_type": "markdown",
   "metadata": {},
   "source": [
    "# Jupyter Notebooks: A quick tutorial"
   ]
  },
  {
   "cell_type": "markdown",
   "metadata": {
    "collapsed": true
   },
   "source": [
    "### Markdown\n",
    "\n",
    "All the text in this Jupyter Notebook is written in Markdown; we briefly talked about Markdown during the `git` tutorial, but it's a plain-text language that allows for fancy HTML rendering.\n",
    "\n",
    "It allows you to **bold** text, to *italicize* it, and to make lists:\n",
    "\n",
    "1. This\n",
    "2. is\n",
    "3. a \n",
    "4. list\n",
    "\n",
    "all using plain text (i.e., not Microsoft Word or Google Docs). If you've ever used `RMarkdown`, then you might be familiar with some of the basics. Jupyter Notebooks will happily render any and all Markdown text for you, which makes detailing the work you do in the Notebook easy and intuitive.\n",
    "\n",
    "You can select that you want a Markdown cell by selecting the dropdown menu located in the top toolbar (it defaults to 'Code') and choosing 'Markdown.'\n",
    "\n",
    "A great cheatsheet with the various Markdown options and syntax is available at [https://github.com/adam-p/markdown-here/wiki/Markdown-Cheatsheet](https://github.com/adam-p/markdown-here/wiki/Markdown-Cheatsheet) &mdash; you can use [http://bit.ly/1dQOfRK](http://bit.ly/1dQOfRK) if you'd prefer a bit.ly link."
   ]
  },
  {
   "cell_type": "markdown",
   "metadata": {},
   "source": [
    "## Getting started (with Python)\n",
    "\n",
    "We're going to play around with Python a little bit at first. The thing to remember here is that you don't need to know what these commands are doing. The goal here is to demonstrate how Jupyter Notebooks work -- the general structure and function of them -- to understand how they can be useful for you:"
   ]
  },
  {
   "cell_type": "markdown",
   "metadata": {},
   "source": [
    "We'll start off with some default import for our Python code. This is just to get us started!"
   ]
  },
  {
   "cell_type": "code",
   "execution_count": 1,
   "metadata": {
    "collapsed": true
   },
   "outputs": [],
   "source": [
    "import numpy as np      # this loads a library for manipulating data\n",
    "import pandas as pd     # this loads a library for handling datasets\n",
    "import seaborn as sns   # this loads a library for making plots\n",
    "sns.set(style='white')  # this says we want an extra-pretty plotting style"
   ]
  },
  {
   "cell_type": "markdown",
   "metadata": {},
   "source": [
    "In order to get our plots to show up in the notebook (rather than as pop-ups in new windows), we need to use a little magic (that's what it's called!) command:"
   ]
  },
  {
   "cell_type": "code",
   "execution_count": 2,
   "metadata": {
    "collapsed": true
   },
   "outputs": [],
   "source": [
    "%matplotlib inline"
   ]
  },
  {
   "cell_type": "markdown",
   "metadata": {},
   "source": [
    "Then, let's load up the iris dataset &mdash; this is a classic dataset that is used in a variety of fields. We're going to read in a CSV file (hosted on-line):"
   ]
  },
  {
   "cell_type": "code",
   "execution_count": 3,
   "metadata": {},
   "outputs": [
    {
     "data": {
      "text/html": [
       "<div>\n",
       "<table border=\"1\" class=\"dataframe\">\n",
       "  <thead>\n",
       "    <tr style=\"text-align: right;\">\n",
       "      <th></th>\n",
       "      <th>sepal_length</th>\n",
       "      <th>sepal_width</th>\n",
       "      <th>petal_length</th>\n",
       "      <th>petal_width</th>\n",
       "      <th>species</th>\n",
       "    </tr>\n",
       "  </thead>\n",
       "  <tbody>\n",
       "    <tr>\n",
       "      <th>0</th>\n",
       "      <td>5.1</td>\n",
       "      <td>3.5</td>\n",
       "      <td>1.4</td>\n",
       "      <td>0.2</td>\n",
       "      <td>setosa</td>\n",
       "    </tr>\n",
       "    <tr>\n",
       "      <th>1</th>\n",
       "      <td>4.9</td>\n",
       "      <td>3.0</td>\n",
       "      <td>1.4</td>\n",
       "      <td>0.2</td>\n",
       "      <td>setosa</td>\n",
       "    </tr>\n",
       "    <tr>\n",
       "      <th>2</th>\n",
       "      <td>4.7</td>\n",
       "      <td>3.2</td>\n",
       "      <td>1.3</td>\n",
       "      <td>0.2</td>\n",
       "      <td>setosa</td>\n",
       "    </tr>\n",
       "    <tr>\n",
       "      <th>3</th>\n",
       "      <td>4.6</td>\n",
       "      <td>3.1</td>\n",
       "      <td>1.5</td>\n",
       "      <td>0.2</td>\n",
       "      <td>setosa</td>\n",
       "    </tr>\n",
       "    <tr>\n",
       "      <th>4</th>\n",
       "      <td>5.0</td>\n",
       "      <td>3.6</td>\n",
       "      <td>1.4</td>\n",
       "      <td>0.2</td>\n",
       "      <td>setosa</td>\n",
       "    </tr>\n",
       "  </tbody>\n",
       "</table>\n",
       "</div>"
      ],
      "text/plain": [
       "   sepal_length  sepal_width  petal_length  petal_width species\n",
       "0           5.1          3.5           1.4          0.2  setosa\n",
       "1           4.9          3.0           1.4          0.2  setosa\n",
       "2           4.7          3.2           1.3          0.2  setosa\n",
       "3           4.6          3.1           1.5          0.2  setosa\n",
       "4           5.0          3.6           1.4          0.2  setosa"
      ]
     },
     "execution_count": 3,
     "metadata": {},
     "output_type": "execute_result"
    }
   ],
   "source": [
    "iris = pd.read_csv('http://bit.ly/2oKcw7S')  # read the CSV file in and assign it to a variable\n",
    "iris.head()                                  # invoke the \"head\" command to look at the first few entries"
   ]
  },
  {
   "cell_type": "code",
   "execution_count": 4,
   "metadata": {},
   "outputs": [
    {
     "data": {
      "image/png": "[encoded data removed]",
      "text/plain": [
       "<matplotlib.figure.Figure at 0x11b4cd358>"
      ]
     },
     "metadata": {},
     "output_type": "display_data"
    }
   ],
   "source": [
    "sns.jointplot(x='sepal_length', y='sepal_width', data=iris);  # make a plot comparing sepal_length and sepal_width"
   ]
  },
  {
   "cell_type": "markdown",
   "metadata": {},
   "source": [
    "## Moving to R\n",
    "\n",
    "We can also go back and forth between `python` and `R`. \n",
    "\n",
    "Why would you want this, you ask? Well, `R` is *the* program for statistics, but I would argue `python` modules are more diverse and better at heavy computational analyses. What if you want to do both, shuffling your data back and forth between `python` and `R`?\n",
    "\n",
    "First, let's see how we can run commands (that we would normally run in the terminal!) from a notebook:"
   ]
  },
  {
   "cell_type": "code",
   "execution_count": 5,
   "metadata": {},
   "outputs": [
    {
     "name": "stdout",
     "output_type": "stream",
     "text": [
      "Fetching package metadata ...........\n",
      "Solving package specifications: .\n",
      "\n",
      "Package plan for installation in environment /Users/rossmarkello/anaconda3:\n",
      "\n",
      "The following packages will be UPDATED:\n",
      "\n",
      "    conda: 4.3.16-py35_0 --> 4.3.18-py35_0\n",
      "\n",
      "conda-4.3.18-p 100% |################################| Time: 0:00:00   1.78 MB/s\n"
     ]
    }
   ],
   "source": [
    "!conda install -y rpy2"
   ]
  },
  {
   "cell_type": "markdown",
   "metadata": {},
   "source": [
    "Then, let's load the extension:"
   ]
  },
  {
   "cell_type": "code",
   "execution_count": 6,
   "metadata": {
    "collapsed": true
   },
   "outputs": [],
   "source": [
    "%load_ext rpy2.ipython"
   ]
  },
  {
   "cell_type": "markdown",
   "metadata": {},
   "source": [
    "Then, let's make a little variable to send over to R. We're just going to make some random data and call it `x` and `y`."
   ]
  },
  {
   "cell_type": "code",
   "execution_count": 7,
   "metadata": {},
   "outputs": [
    {
     "data": {
      "text/html": [
       "<div>\n",
       "<table border=\"1\" class=\"dataframe\">\n",
       "  <thead>\n",
       "    <tr style=\"text-align: right;\">\n",
       "      <th></th>\n",
       "      <th>x</th>\n",
       "      <th>y</th>\n",
       "    </tr>\n",
       "  </thead>\n",
       "  <tbody>\n",
       "    <tr>\n",
       "      <th>0</th>\n",
       "      <td>0.766013</td>\n",
       "      <td>0.925484</td>\n",
       "    </tr>\n",
       "    <tr>\n",
       "      <th>1</th>\n",
       "      <td>0.030446</td>\n",
       "      <td>0.089470</td>\n",
       "    </tr>\n",
       "    <tr>\n",
       "      <th>2</th>\n",
       "      <td>0.770835</td>\n",
       "      <td>0.783407</td>\n",
       "    </tr>\n",
       "    <tr>\n",
       "      <th>3</th>\n",
       "      <td>0.875317</td>\n",
       "      <td>0.394023</td>\n",
       "    </tr>\n",
       "    <tr>\n",
       "      <th>4</th>\n",
       "      <td>0.492833</td>\n",
       "      <td>0.042530</td>\n",
       "    </tr>\n",
       "  </tbody>\n",
       "</table>\n",
       "</div>"
      ],
      "text/plain": [
       "          x         y\n",
       "0  0.766013  0.925484\n",
       "1  0.030446  0.089470\n",
       "2  0.770835  0.783407\n",
       "3  0.875317  0.394023\n",
       "4  0.492833  0.042530"
      ]
     },
     "execution_count": 7,
     "metadata": {},
     "output_type": "execute_result"
    }
   ],
   "source": [
    "for_R = pd.DataFrame(np.random.rand(100,2),  # make a random 100 x 2 array\n",
    "                     columns=['x','y'])      # make the column names 'x' and 'y'\n",
    "for_R.head()                                 # invoke the \"head\" command to look at the first few entries"
   ]
  },
  {
   "cell_type": "markdown",
   "metadata": {},
   "source": [
    "Now, let's do some `R`! We do this with the magic command `%%R`, which tells our Jupyter Notebook that everything in the cell should be interpreted as `R` code. \n",
    "\n",
    "We also use the argument `-i for_R` to say that we want our variable `for_R` to be sent to the `R` environment.\n",
    "\n",
    "We'll just do a basic plot:"
   ]
  },
  {
   "cell_type": "code",
   "execution_count": 8,
   "metadata": {},
   "outputs": [
    {
     "name": "stderr",
     "output_type": "stream",
     "text": [
      "/Users/rossmarkello/anaconda3/lib/python3.5/site-packages/rpy2/rinterface/__init__.py:186: RRuntimeWarning: Loading required package: ggplot2\n",
      "\n",
      "  warnings.warn(x, RRuntimeWarning)\n"
     ]
    },
    {
     "data": {
      "image/png": "[encoded data removed]"
     },
     "metadata": {},
     "output_type": "display_data"
    }
   ],
   "source": [
    "%%R -i for_R -o my_output\n",
    "my_output <- c(1,2,3)\n",
    "require(ggplot2)         # load the ggplot2 library\n",
    "qplot(x, y, data=for_R)  # make a scatter plot"
   ]
  },
  {
   "cell_type": "code",
   "execution_count": 9,
   "metadata": {},
   "outputs": [
    {
     "data": {
      "text/plain": [
       "array([ 1.,  2.,  3.])"
      ]
     },
     "execution_count": 9,
     "metadata": {},
     "output_type": "execute_result"
    }
   ],
   "source": [
    "my_output"
   ]
  },
  {
   "cell_type": "code",
   "execution_count": 10,
   "metadata": {},
   "outputs": [
    {
     "data": {
      "text/html": [
       "<div>\n",
       "<table border=\"1\" class=\"dataframe\">\n",
       "  <thead>\n",
       "    <tr style=\"text-align: right;\">\n",
       "      <th></th>\n",
       "      <th>x</th>\n",
       "      <th>y</th>\n",
       "    </tr>\n",
       "  </thead>\n",
       "  <tbody>\n",
       "    <tr>\n",
       "      <th>0</th>\n",
       "      <td>0.766013</td>\n",
       "      <td>0.925484</td>\n",
       "    </tr>\n",
       "    <tr>\n",
       "      <th>1</th>\n",
       "      <td>0.030446</td>\n",
       "      <td>0.089470</td>\n",
       "    </tr>\n",
       "    <tr>\n",
       "      <th>2</th>\n",
       "      <td>0.770835</td>\n",
       "      <td>0.783407</td>\n",
       "    </tr>\n",
       "    <tr>\n",
       "      <th>3</th>\n",
       "      <td>0.875317</td>\n",
       "      <td>0.394023</td>\n",
       "    </tr>\n",
       "    <tr>\n",
       "      <th>4</th>\n",
       "      <td>0.492833</td>\n",
       "      <td>0.042530</td>\n",
       "    </tr>\n",
       "    <tr>\n",
       "      <th>5</th>\n",
       "      <td>0.126785</td>\n",
       "      <td>0.947893</td>\n",
       "    </tr>\n",
       "  </tbody>\n",
       "</table>\n",
       "</div>"
      ],
      "text/plain": [
       "          x         y\n",
       "0  0.766013  0.925484\n",
       "1  0.030446  0.089470\n",
       "2  0.770835  0.783407\n",
       "3  0.875317  0.394023\n",
       "4  0.492833  0.042530\n",
       "5  0.126785  0.947893"
      ]
     },
     "execution_count": 10,
     "metadata": {},
     "output_type": "execute_result"
    }
   ],
   "source": [
    "%R head(for_R)"
   ]
  },
  {
   "cell_type": "markdown",
   "metadata": {},
   "source": [
    "You can see that the `R` plots are also displayed in-line to create a seamless flow between code, exposition, and graphics!"
   ]
  },
  {
   "cell_type": "markdown",
   "metadata": {},
   "source": [
    "## Other languages!\n",
    "\n",
    "Jupyter Notebooks aren't just confined to `R` and `python`, though:\n",
    "\n",
    "### bash"
   ]
  },
  {
   "cell_type": "code",
   "execution_count": 11,
   "metadata": {},
   "outputs": [
    {
     "name": "stdout",
     "output_type": "stream",
     "text": [
      "Jupyter notebooks can render bash commands!\n",
      "1\n",
      "2\n",
      "3\n",
      "4\n",
      "5\n"
     ]
    }
   ],
   "source": [
    "%%bash\n",
    "echo \"Jupyter notebooks can render bash commands!\"\n",
    "\n",
    "for number in {1..5}; do \n",
    "    echo $number\n",
    "done"
   ]
  },
  {
   "cell_type": "markdown",
   "metadata": {},
   "source": [
    "### HTML"
   ]
  },
  {
   "cell_type": "code",
   "execution_count": 12,
   "metadata": {},
   "outputs": [
    {
     "data": {
      "text/html": [
       "<h4>And they can render HTML, too!</h4>\n",
       "<br>\n",
       "Which lets us insert pictures:\n",
       "<img src=\"http://i.onionstatic.com/avclub/4287/59/16x9/960.jpg\" height=\"400\", width=\"400\">"
      ],
      "text/plain": [
       "<IPython.core.display.HTML object>"
      ]
     },
     "metadata": {},
     "output_type": "display_data"
    }
   ],
   "source": [
    "%%HTML\n",
    "<h4>And they can render HTML, too!</h4>\n",
    "<br>\n",
    "Which lets us insert pictures:\n",
    "<img src=\"http://i.onionstatic.com/avclub/4287/59/16x9/960.jpg\" height=\"400\", width=\"400\">"
   ]
  },
  {
   "cell_type": "markdown",
   "metadata": {},
   "source": [
    "### $\\LaTeX$"
   ]
  },
  {
   "cell_type": "markdown",
   "metadata": {},
   "source": [
    "We can render $\\LaTeX$ equations, if we want to be really pretty:\n",
    "\n",
    "$$Y = \\beta_1{X_1} + \\beta_2{X_2} + \\epsilon$$\n",
    "\n",
    "To do so, we use the \"Markdown\" cell option and simply write the $\\LaTeX$ math surrounded by \\$ (for inline math) or \\$$ (for newline math) on both sides."
   ]
  }
 ],
 "metadata": {
  "kernelspec": {
   "display_name": "Python [default]",
   "language": "python",
   "name": "python3"
  },
  "language_info": {
   "codemirror_mode": {
    "name": "ipython",
    "version": 3
   },
   "file_extension": ".py",
   "mimetype": "text/x-python",
   "name": "python",
   "nbconvert_exporter": "python",
   "pygments_lexer": "ipython3",
   "version": "3.5.3"
  }
 },
 "nbformat": 4,
 "nbformat_minor": 2
}
